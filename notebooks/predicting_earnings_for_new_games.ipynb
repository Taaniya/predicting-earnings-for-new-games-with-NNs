{
 "cells": [
  {
   "cell_type": "code",
   "execution_count": 1,
   "metadata": {},
   "outputs": [
    {
     "name": "stderr",
     "output_type": "stream",
     "text": [
      "C:\\Users\\Taaniya\\Anaconda3\\lib\\site-packages\\h5py\\__init__.py:36: FutureWarning: Conversion of the second argument of issubdtype from `float` to `np.floating` is deprecated. In future, it will be treated as `np.float64 == np.dtype(float).type`.\n",
      "  from ._conv import register_converters as _register_converters\n"
     ]
    }
   ],
   "source": [
    "import pandas as pd\n",
    "import matplotlib.pyplot as plt\n",
    "\n",
    "from sklearn.preprocessing import MinMaxScaler\n",
    "import tensorflow as tf"
   ]
  },
  {
   "cell_type": "code",
   "execution_count": 2,
   "metadata": {},
   "outputs": [
    {
     "name": "stdout",
     "output_type": "stream",
     "text": [
      "Index(['critic_rating', 'is_action', 'is_exclusive_to_us', 'is_portable',\n",
      "       'is_role_playing', 'is_sequel', 'is_sports', 'suitable_for_kids',\n",
      "       'total_earnings', 'unit_price'],\n",
      "      dtype='object')\n"
     ]
    }
   ],
   "source": [
    "# load dataset\n",
    "input_training_df = pd.read_csv(\"./data/sales_data_training.csv\",dtype=float)\n",
    "input_test_df = pd.read_csv(\"./data/sales_data_test.csv\",dtype=float)\n",
    "\n",
    "print(input_training_df.columns)\n",
    "\n",
    "# Extract features from training/test dataset\n",
    "X_training = input_training_df.drop(\"total_earnings\",axis=1).values\n",
    "Y_training = input_training_df[['total_earnings']].values\n"
   ]
  },
  {
   "cell_type": "code",
   "execution_count": 4,
   "metadata": {
    "scrolled": true
   },
   "outputs": [
    {
     "name": "stdout",
     "output_type": "stream",
     "text": [
      "<class 'pandas.core.frame.DataFrame'>\n",
      "RangeIndex: 1000 entries, 0 to 999\n",
      "Data columns (total 10 columns):\n",
      "critic_rating         1000 non-null float64\n",
      "is_action             1000 non-null float64\n",
      "is_exclusive_to_us    1000 non-null float64\n",
      "is_portable           1000 non-null float64\n",
      "is_role_playing       1000 non-null float64\n",
      "is_sequel             1000 non-null float64\n",
      "is_sports             1000 non-null float64\n",
      "suitable_for_kids     1000 non-null float64\n",
      "total_earnings        1000 non-null float64\n",
      "unit_price            1000 non-null float64\n",
      "dtypes: float64(10)\n",
      "memory usage: 78.2 KB\n"
     ]
    }
   ],
   "source": [
    "input_training_df.info()"
   ]
  },
  {
   "cell_type": "code",
   "execution_count": 5,
   "metadata": {},
   "outputs": [
    {
     "data": {
      "text/plain": [
       "(1000, 10)"
      ]
     },
     "execution_count": 5,
     "metadata": {},
     "output_type": "execute_result"
    }
   ],
   "source": [
    "input_training_df.shape"
   ]
  },
  {
   "cell_type": "code",
   "execution_count": 6,
   "metadata": {},
   "outputs": [
    {
     "data": {
      "text/plain": [
       "(400, 10)"
      ]
     },
     "execution_count": 6,
     "metadata": {},
     "output_type": "execute_result"
    }
   ],
   "source": [
    "input_test_df.shape"
   ]
  },
  {
   "cell_type": "code",
   "execution_count": 7,
   "metadata": {},
   "outputs": [],
   "source": [
    "# scale values of training dataset between 0 and 1\n",
    "# create scaler instances for x and y separately\n",
    "\n",
    "X_scaler_instance = MinMaxScaler(feature_range=(0,1))\n",
    "Y_scaler_instance = MinMaxScaler(feature_range=(0,1))\n",
    "\n",
    "# Create scalers from training data\n",
    "X_training_scaled = X_scaler_instance.fit_transform(X_training)\n",
    "Y_training_scaled = Y_scaler_instance.fit_transform(Y_training)"
   ]
  },
  {
   "cell_type": "code",
   "execution_count": 8,
   "metadata": {},
   "outputs": [],
   "source": [
    "# Using the scalers fitted from training data on the test data so that the \n",
    "# test data is scaled by the same amount as the training data\n",
    "\n",
    "X_test = input_test_df.drop('total_earnings',axis=1).values\n",
    "Y_test = input_test_df[['total_earnings']].values"
   ]
  },
  {
   "cell_type": "code",
   "execution_count": 9,
   "metadata": {},
   "outputs": [],
   "source": [
    "X_test_scaled = X_scaler_instance.transform(X_test)\n",
    "Y_test_scaled = Y_scaler_instance.transform(Y_test)"
   ]
  },
  {
   "cell_type": "code",
   "execution_count": 10,
   "metadata": {},
   "outputs": [],
   "source": [
    "RUN_NAME = \"run_3 50 with histogram summary\"\n",
    "\n",
    "# Define the neural network structure\n",
    "\n",
    "# training parameters\n",
    "learning_rate = 0.001\n",
    "training_epoch = 100\n",
    "display_step = 5\n",
    "\n",
    "# input/outputs\n",
    "num_inputs = 9                             # no. of features/columns for each row in the dataset\n",
    "num_outputs = 1\n",
    "\n",
    "\n",
    "# define layer sizes i.e no. of nodes in each layer.\n",
    "layer_1_nodes = 50\n",
    "layer_2_nodes = 100\n",
    "layer_3_nodes = 50\n",
    "\n",
    "# save path for exported model\n",
    "model_export_path = \"exported_model\"\n"
   ]
  },
  {
   "cell_type": "code",
   "execution_count": 11,
   "metadata": {},
   "outputs": [
    {
     "name": "stdout",
     "output_type": "stream",
     "text": [
      "INFO:tensorflow:Summary name current cost is illegal; using current_cost instead.\n"
     ]
    }
   ],
   "source": [
    "# define all the layers of the neural network\n",
    "# input layer\n",
    "# input layer will have as many nodes as the number of features of each data row \n",
    "\n",
    "\n",
    "with tf.variable_scope(\"input\"):\n",
    "    # None tells tensorflow that our neural network can accept batches of input of any size,\n",
    "    # num_inputs will tell that there will be 9 values for each record in the batch\n",
    "    X = tf.placeholder(dtype=tf.float32,shape=(None,num_inputs))\n",
    "    \n",
    "# initialize biases with 0. Since biases is a variable, we use tf.get_variable and pass in the name.\n",
    "# 1 weight for each node's connection to each node in the layer.\n",
    "# layer 1\n",
    "with tf.variable_scope(\"layer_1\"):\n",
    "    weights = tf.get_variable(name='weights_1',shape=[num_inputs,layer_1_nodes],\n",
    "                                              initializer=tf.contrib.layers.xavier_initializer())\n",
    "    biases = tf.get_variable(name='biases_1',shape=[layer_1_nodes],initializer=tf.zeros_initializer())\n",
    "    layer_1_output = tf.nn.relu(tf.matmul(X, weights) + biases)\n",
    "    \n",
    "# layer 2\n",
    "with tf.variable_scope(\"layer_2\"):\n",
    "    weights = tf.get_variable(name='weights_2',shape=[layer_1_nodes,layer_2_nodes],\n",
    "                                              initializer=tf.contrib.layers.xavier_initializer())\n",
    "    biases = tf.get_variable(name='biases_2',shape=[layer_2_nodes],initializer=tf.zeros_initializer())\n",
    "    layer_2_output = tf.nn.relu(tf.matmul(layer_1_output,weights) + biases)\n",
    "    \n",
    "# layer 3\n",
    "with tf.variable_scope(\"layer_3\"):\n",
    "    weights = tf.get_variable(name='weights_3',shape=[layer_2_nodes,layer_3_nodes],\n",
    "                                              initializer=tf.contrib.layers.xavier_initializer())\n",
    "    biases = tf.get_variable(name='biases_3',shape=[layer_3_nodes],initializer=tf.zeros_initializer())\n",
    "    layer_3_output = tf.nn.relu(tf.matmul(layer_2_output,weights) + biases)\n",
    "    \n",
    "    \n",
    "# output layer    \n",
    "with tf.variable_scope(\"output\"):\n",
    "    weights = tf.get_variable(name='weights_4',shape=[layer_3_nodes,num_outputs],\n",
    "                                              initializer=tf.contrib.layers.xavier_initializer())\n",
    "    biases = tf.get_variable(name='biases_4',shape=[num_outputs],initializer=tf.zeros_initializer())\n",
    "    #prediction = tf.nn.relu(tf.matmul(layer_3_output,weights) + biases)\n",
    "    prediction = tf.matmul(layer_3_output,weights) + biases\n",
    "    \n",
    "\n",
    "# define the cost function\n",
    "with tf.variable_scope(\"cost\"):\n",
    "    # target value Y\n",
    "    Y = tf.placeholder(dtype=tf.float32,shape=(None,1))\n",
    "    cost = tf.reduce_mean(tf.squared_difference(prediction,Y))\n",
    "    \n",
    "    \n",
    "# define optimizer for training\n",
    "with tf.variable_scope(\"train\"):\n",
    "    optimizer = tf.train.AdamOptimizer(learning_rate=learning_rate).minimize(cost)\n",
    "\n",
    "# creating a summary operation to log progress of the network. \n",
    "# This will be a separate node in our tensorflow's computational graph\n",
    "with tf.variable_scope(\"logging\"):\n",
    "    tf.summary.scalar(\"current cost\",cost)               # pass in the name and reference to the scalar valued metric\n",
    "                                                         # we wish to monitor by logging\n",
    "    tf.summary.histogram(\"predicted_value\",prediction)\n",
    "    # adding a new node which will run all the summary nodes before this.\n",
    "    summary = tf.summary.merge_all()\n",
    "    \n",
    "    ## tf.summary.scalar object represents the value we are logging\n",
    "    \n"
   ]
  },
  {
   "cell_type": "code",
   "execution_count": 11,
   "metadata": {},
   "outputs": [],
   "source": [
    "# creating tf.train.saver object. Placing this code after the graph definition and befor the training loop starts    \n",
    "# saver = tf.train.Saver(keep_checkpoint_every_n_hours=1)"
   ]
  },
  {
   "cell_type": "code",
   "execution_count": 12,
   "metadata": {},
   "outputs": [
    {
     "data": {
      "text/plain": [
       "tensorflow.python.framework.ops.Tensor"
      ]
     },
     "execution_count": 12,
     "metadata": {},
     "output_type": "execute_result"
    }
   ],
   "source": [
    "type(X)"
   ]
  },
  {
   "cell_type": "code",
   "execution_count": 13,
   "metadata": {},
   "outputs": [
    {
     "data": {
      "text/plain": [
       "tensorflow.python.ops.variables.RefVariable"
      ]
     },
     "execution_count": 13,
     "metadata": {},
     "output_type": "execute_result"
    }
   ],
   "source": [
    "type(weights)"
   ]
  },
  {
   "cell_type": "code",
   "execution_count": 14,
   "metadata": {
    "scrolled": true
   },
   "outputs": [
    {
     "data": {
      "text/plain": [
       "tensorflow.python.ops.variables.RefVariable"
      ]
     },
     "execution_count": 14,
     "metadata": {},
     "output_type": "execute_result"
    }
   ],
   "source": [
    "type(biases)"
   ]
  },
  {
   "cell_type": "code",
   "execution_count": 15,
   "metadata": {},
   "outputs": [
    {
     "data": {
      "text/plain": [
       "tensorflow.python.framework.ops.Tensor"
      ]
     },
     "execution_count": 15,
     "metadata": {},
     "output_type": "execute_result"
    }
   ],
   "source": [
    "type(layer_3_output)"
   ]
  },
  {
   "cell_type": "code",
   "execution_count": 16,
   "metadata": {},
   "outputs": [
    {
     "data": {
      "text/plain": [
       "tensorflow.python.framework.ops.Tensor"
      ]
     },
     "execution_count": 16,
     "metadata": {},
     "output_type": "execute_result"
    }
   ],
   "source": [
    "type(Y)"
   ]
  },
  {
   "cell_type": "code",
   "execution_count": 17,
   "metadata": {},
   "outputs": [
    {
     "data": {
      "text/plain": [
       "tensorflow.python.framework.ops.Tensor"
      ]
     },
     "execution_count": 17,
     "metadata": {},
     "output_type": "execute_result"
    }
   ],
   "source": [
    "type(cost)"
   ]
  },
  {
   "cell_type": "code",
   "execution_count": 18,
   "metadata": {},
   "outputs": [
    {
     "data": {
      "text/plain": [
       "tensorflow.python.framework.ops.Operation"
      ]
     },
     "execution_count": 18,
     "metadata": {},
     "output_type": "execute_result"
    }
   ],
   "source": [
    "type(optimizer)"
   ]
  },
  {
   "cell_type": "code",
   "execution_count": 36,
   "metadata": {
    "scrolled": true
   },
   "outputs": [
    {
     "name": "stdout",
     "output_type": "stream",
     "text": [
      "0 0.04712542 0.05172021\n",
      "5 0.027329646 0.029486189\n",
      "10 0.011682668 0.0129472185\n",
      "15 0.009341526 0.010056276\n",
      "20 0.0047228313 0.0050391443\n",
      "25 0.0028504734 0.0028570083\n",
      "30 0.0024528657 0.002458\n",
      "35 0.0019011691 0.0017832841\n",
      "40 0.0013952854 0.0014404672\n",
      "45 0.0009969122 0.00092308107\n",
      "50 0.00077021396 0.00079991005\n",
      "55 0.00062029524 0.0005768508\n",
      "60 0.0005132792 0.0005116372\n",
      "65 0.00042761097 0.00041750947\n",
      "70 0.00035584054 0.00038056195\n",
      "75 0.00029898834 0.00031730084\n",
      "80 0.00025317495 0.0002856708\n",
      "85 0.00021740625 0.00024522026\n",
      "90 0.000189262 0.0002221201\n",
      "95 0.00016669351 0.00020165999\n",
      "final training cost:0.00015156179142650217\n",
      "final testing cost:0.000188474528840743\n",
      "training is complete.\n",
      "predicted earning:[253982.5]\n",
      "actual earning:[247537]\n",
      "INFO:tensorflow:No assets to save.\n",
      "INFO:tensorflow:No assets to write.\n",
      "INFO:tensorflow:SavedModel written to: exported_model\\saved_model.pb\n"
     ]
    }
   ],
   "source": [
    "# Setting up training loop\n",
    "\n",
    "with tf.Session() as sess:\n",
    "    \n",
    "    sess.run(tf.global_variables_initializer())\n",
    "    #saver.restore(sess=sess,save_path=\"./logs/trained_model.ckpt\")\n",
    "    \n",
    "    ### create summary filewriter operation. Unlike tf.summary which create summary in protobuf format understandable by \n",
    "    ### tensorflow, this filewriter will actually write those to disk\n",
    "    ## Filewriter write summary protocol buffers to event files\n",
    "    training_logs_writer = tf.summary.FileWriter(logdir=\"./logs/{}/train\".format(RUN_NAME),graph=sess.graph)\n",
    "    testing_logs_writer = tf.summary.FileWriter(logdir=\"./logs/{}/test\".format(RUN_NAME),graph=sess.graph)\n",
    "    \n",
    "    # Running the optimizer in loop for training\n",
    "    # perform training for epochs\n",
    "    # 1 epoch is one full run through the dataset\n",
    "\n",
    "        \n",
    "    for epoch in range(training_epoch):    \n",
    "        sess.run(optimizer,feed_dict={X:X_training_scaled, Y:Y_training_scaled})\n",
    "    \n",
    "        if epoch % 5 == 0:\n",
    "            training_cost,training_summary = sess.run([cost,summary],\\\n",
    "                                                              feed_dict={X:X_training_scaled,Y:Y_training_scaled})\n",
    "            testing_cost,testing_summary = sess.run([cost,summary],\\\n",
    "                                                              feed_dict={X:X_test_scaled,Y:Y_test_scaled})\n",
    "\n",
    "            # in the steps above, we obtained the data stored in training and testing summary variables as bytes.\n",
    "            #In the next step, these summaries will be written down into log files.\n",
    "            \n",
    "            training_logs_writer.add_summary(training_summary, epoch)   # epoch values become our x-axis\n",
    "            testing_logs_writer.add_summary(testing_summary, epoch)\n",
    "            \n",
    "            print(epoch,training_cost,testing_cost)\n",
    "        \n",
    "    final_training_cost = sess.run(cost,feed_dict={X:X_training_scaled,Y:Y_training_scaled})\n",
    "    final_testing_cost = sess.run(cost,feed_dict={X:X_test_scaled,Y:Y_test_scaled})\n",
    "        \n",
    "    print(\"final training cost:{}\".format(final_training_cost))\n",
    "    print(\"final testing cost:{}\".format(final_testing_cost))\n",
    "    print(\"training is complete.\")\n",
    "        \n",
    "    predicted_earnings_scaled = sess.run(prediction, feed_dict={X:X_test_scaled,Y:Y_test_scaled})    \n",
    "    predicted_earnings = Y_scaler_instance.inverse_transform(predicted_earnings_scaled)\n",
    "    print(\"predicted earning:{}\".format(predicted_earnings[0]))    \n",
    "        \n",
    "    actual_earnings = Y_test[0]\n",
    "    \n",
    "    print(\"actual earning:{}\".format(actual_earnings))\n",
    "    # will return the path prefix of the checkpoint files\n",
    "    # saved_path = saver.save(sess=sess,save_path=\"./logs/trained_model.ckpt\")    \n",
    "    \n",
    "    # Exporting the model for deployment to cloud\n",
    "    model_builder = tf.saved_model.builder.SavedModelBuilder(model_export_path)   # this will create a new directory for the model\n",
    "    \n",
    "    # define inputs/outputs of model that we want Google to use when it runs our model on cloud\n",
    "    # Create the TensorInfo protobuf objects that encapsulates the input/output tensors\n",
    "    # We use a dictionary with our input/output nodes as keys and their TensorInfo protobuf objects as values\n",
    "    \n",
    "    inputs = {\n",
    "        'input': tf.saved_model.utils.build_tensor_info(X)\n",
    "        }\n",
    "    \n",
    "    outputs = {\n",
    "        'output': tf.saved_model.utils.build_tensor_info(prediction)\n",
    "        }\n",
    "    \n",
    "    \n",
    "    # define signatures\n",
    "    # For prediction signature simply pass tensors that are input to the model and which are given as output from the model.\n",
    "    \n",
    "    # tf.saved_model.signature_constants.PREDICT_METHOD_NAME\n",
    "    # A pre-defined function name. that's what Google will always look for to execute out model. \n",
    "    \n",
    "    prediction_signature_def = tf.saved_model.signature_def_utils.build_signature_def(\n",
    "    inputs=inputs,\n",
    "    outputs=outputs,\n",
    "    method_name=tf.saved_model.signature_constants.PREDICT_METHOD_NAME\n",
    "    )\n",
    "    \n",
    "    # Next, we configure the model builder to tell it exactly how we want this model exported. \n",
    "    # metagraph - structure of our computational graph\n",
    "    # variables - values we set our each node in the graph\n",
    "    # signature def map will list all the signature defs that this model supports\n",
    "    model_builder.add_meta_graph_and_variables(\n",
    "                            sess,\n",
    "                            tags=[tf.saved_model.tag_constants.SERVING],\n",
    "                            signature_def_map={ \n",
    "                                tf.saved_model.signature_constants.DEFAULT_SERVING_SIGNATURE_DEF_KEY : prediction_signature_def\n",
    "                            }\n",
    "                                        )\n",
    "    \n",
    "    \n",
    "    # export the model\n",
    "    saved_path = model_builder.save(as_text=False)  # False - to be saved in serialised format otherwise in text.\n",
    "            "
   ]
  },
  {
   "cell_type": "code",
   "execution_count": 29,
   "metadata": {},
   "outputs": [
    {
     "data": {
      "text/plain": [
       "numpy.float32"
      ]
     },
     "execution_count": 29,
     "metadata": {},
     "output_type": "execute_result"
    }
   ],
   "source": [
    "type(training_cost)"
   ]
  },
  {
   "cell_type": "code",
   "execution_count": 28,
   "metadata": {},
   "outputs": [
    {
     "data": {
      "text/plain": [
       "bytes"
      ]
     },
     "execution_count": 28,
     "metadata": {},
     "output_type": "execute_result"
    }
   ],
   "source": [
    "type(training_summary)"
   ]
  },
  {
   "cell_type": "code",
   "execution_count": 26,
   "metadata": {},
   "outputs": [
    {
     "data": {
      "text/plain": [
       "(array([ 21.,  73., 103.,  74.,  62.,  21.,  19.,  16.,   7.,   4.]),\n",
       " array([-0.00170284,  0.08821211,  0.17812705,  0.268042  ,  0.35795695,\n",
       "         0.4478719 ,  0.53778684,  0.62770179,  0.71761674,  0.80753168,\n",
       "         0.89744663]),\n",
       " <a list of 10 Patch objects>)"
      ]
     },
     "execution_count": 26,
     "metadata": {},
     "output_type": "execute_result"
    },
    {
     "data": {
      "image/png": "[encoded data removed]",
      "text/plain": [
       "<Figure size 432x288 with 1 Axes>"
      ]
     },
     "metadata": {},
     "output_type": "display_data"
    }
   ],
   "source": [
    "plt.hist(predicted_earnings_scaled)"
   ]
  },
  {
   "cell_type": "code",
   "execution_count": 27,
   "metadata": {},
   "outputs": [
    {
     "data": {
      "text/plain": [
       "(array([ 32.,  83., 102.,  63.,  61.,  16.,  16.,  10.,  13.,   4.]),\n",
       " array([0.01795161, 0.10520804, 0.19246446, 0.27972089, 0.36697732,\n",
       "        0.45423375, 0.54149018, 0.6287466 , 0.71600303, 0.80325946,\n",
       "        0.89051589]),\n",
       " <a list of 10 Patch objects>)"
      ]
     },
     "execution_count": 27,
     "metadata": {},
     "output_type": "execute_result"
    },
    {
     "data": {
      "image/png": "[encoded data removed]",
      "text/plain": [
       "<Figure size 432x288 with 1 Axes>"
      ]
     },
     "metadata": {},
     "output_type": "display_data"
    }
   ],
   "source": [
    "plt.hist(Y_test_scaled)"
   ]
  },
  {
   "cell_type": "code",
   "execution_count": 1,
   "metadata": {},
   "outputs": [],
   "source": [
    "# why xavier weight initialization\n",
    "# https://adventuresinmachinelearning.com/weight-initialization-tutorial-tensorflow/"
   ]
  }
 ],
 "metadata": {
  "kernelspec": {
   "display_name": "Python 3",
   "language": "python",
   "name": "python3"
  },
  "language_info": {
   "codemirror_mode": {
    "name": "ipython",
    "version": 3
   },
   "file_extension": ".py",
   "mimetype": "text/x-python",
   "name": "python",
   "nbconvert_exporter": "python",
   "pygments_lexer": "ipython3",
   "version": "3.6.5"
  }
 },
 "nbformat": 4,
 "nbformat_minor": 2
}
